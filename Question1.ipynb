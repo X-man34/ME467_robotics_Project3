{
 "cells": [
  {
   "cell_type": "markdown",
   "id": "75e3f08c",
   "metadata": {},
   "source": [
    "# Robotics Project 1\n",
    "\n",
    "In this project, we will solve the position and velocity level forward kinematics of the NeXCoM 6-DoF miniBoT and optionally verify that our solution matches with the output of its\n",
    "implementation in MuJoCo.\n",
    "\n",
    "## Question 1 \n",
    "\n",
    "The coordinate frames were assigned and Denavit-Hartenberg parameters chosen as seen below. \n",
    "\n",
    "![Coordinate-frame-diagram](coordDiagram.png)\n",
    "\n",
    "\n"
   ]
  },
  {
   "cell_type": "code",
   "execution_count": null,
   "id": "daab3912",
   "metadata": {},
   "outputs": [],
   "source": [
    "# Import stuff and define some functions. Other code I wrote is imported from python files. \n",
    "\n",
    "import mujoco as mj\n",
    "from pathlib import Path\n",
    "import numpy as np\n",
    "import mujoco.viewer\n",
    "import time\n",
    "from spatialmath import SE3, SO3\n",
    "from spatialmath.base import tr2adjoint\n",
    "from numpy import deg2rad\n",
    "\n",
    "import importlib\n",
    "import kinematics\n",
    "importlib.reload(kinematics)# make sure any changes I make are updated immediately. by forcing a reimport to avoid caching. \n",
    "from kinematics import Kinematics\n",
    "\n",
    "def get_pose(data, body_id):\n",
    "    \"\"\"\n",
    "    Extracts the position and rotation of a body from the mujoco data structure.\n",
    "    \"\"\"\n",
    "    #Extract the positions\n",
    "    rot = data.xmat[body_id].reshape(3,3)\n",
    "    pos = data.xpos[body_id] * 1000 #Convert to mm\n",
    "\n",
    "\n",
    "    #Convert to transformation matrix\n",
    "    transformation = np.eye(4) \n",
    "    transformation[:3, :3] = rot  \n",
    "    transformation[:3, 3] = pos \n",
    "    return SE3(transformation)\n",
    "\n",
    "def geometric_inverse(desired_pose: np.ndarray)-> list:\n",
    "    \"\"\"\n",
    "    Given a desired pose, return the joint angles that achieve it.\n",
    "    Uses hardcoded values and geometric methods to find the joint angles. \n",
    "    \"\"\"\n",
    "    #get the position of the wrist center. d\n",
    "    desired_translation = desired_pose[3,:3]\n",
    "    desired_rotation = desired_pose[:3, :3]\n",
    "    wrist_center = desired_translation - 95 * desired_rotation @ np.array([0, 0, 1])\n",
    "\n",
    "    d = 27.5\n",
    "    r = np.sqrt(wrist_center[0]**2 + wrist_center[1]**2) - d# Projected distance from joint 2 to wrist center in x0 y0 plane. \n",
    "    s = wrist_center[2] - 339\n",
    "    theta1 = np.arctan2(wrist_center[1], wrist_center[0])\n",
    "\n",
    "    # Now we need to find theta 2 and 3. These are independent of theta1\n",
    "    \n",
    "    a2 = 250\n",
    "    a3 = np.sqrt(70**2 + 250**2)\n",
    "    extra_theta3 = np.pi - np.arctan(250/70)\n",
    "\n",
    "\n",
    "\n",
    "    #We find theta3 using the law of cosines. \n",
    "    theta3 = np.arccos((r**2 + s**2 - a2**2 - a3**2) / (-2 * a2 * a3)) - extra_theta3\n",
    "\n",
    "    print(theta3)\n",
    "    theta2a = np.arctan2(s, r) - np.arctan2(a3 * np.sin(theta3), a2 + a3 * np.cos(theta3))\n",
    "    print(theta2a)\n",
    "    # theta2b = np.arctan2(s, r) - np.arctan2(a3 * np.sin(theta3b), a2 + a3 * np.cos(theta3b))\n",
    "\n",
    "    return [theta1, theta2a, theta3, 0, 0, 0]\n",
    "\n",
    "# Helps with printouts. \n",
    "np.set_printoptions(suppress=True)\n",
    "\n",
    "# Load the mujoco model for answer verification. \n",
    "xml_path = Path(\"CAD\") / \"robot_model.xml\"\n",
    "model = mj.MjModel.from_xml_path(str(xml_path))\n",
    "mujoco_model_data = mj.MjData(model)\n",
    "\n",
    "\n",
    "end_effector_body_name=\"end-effector\"\n",
    "end_effector_body_id = model.body(name=end_effector_body_name).id\n",
    "\n",
    "\n",
    "# Define the paramaters for this robot arm. \n",
    "dh_table = [[True, 27.5, np.pi/2, 339],\n",
    "            [True, 250, 0, 0],\n",
    "            [True, 70, np.pi/2, 0],\n",
    "            [True, 0, -np.pi/2, 250],\n",
    "            [True, 0, np.pi/2, 0],\n",
    "            [True, 0, 0, 95]\n",
    "            ]\n",
    "\n",
    "\n",
    "home_angles = np.array([0, np.pi/2, 0, 0, 0, 0])\n",
    "# Create a kinematics object with the home angles and the DH table.\n",
    "mini_bot_kinematics = Kinematics(home_angles, dh_table)\n",
    "# Compute the transformation of a known position for use later. \n",
    "home_pos = mini_bot_kinematics.foreward(home_angles)\n"
   ]
  },
  {
   "cell_type": "markdown",
   "id": "675b85a1",
   "metadata": {},
   "source": [
    "### (a) [30 points] Forward Kinematics Problem\n",
    "\n",
    "Solve the **position-level forward kinematics** problem. Use this solution to find the end-effector pose **ξ** given that the joint angles are:\n",
    "\n",
    "$$\\mathbf{\\theta}=\\begin{bmatrix}\n",
    "0° & 90° & 0° & 0° & -90° & 0°\n",
    "\\end{bmatrix}$$\n"
   ]
  },
  {
   "cell_type": "code",
   "execution_count": 30,
   "id": "a4b73c17",
   "metadata": {},
   "outputs": [
    {
     "name": "stdout",
     "output_type": "stream",
     "text": [
      "Question 1a transformation from foreward kinematics:\n",
      "  \u001b[38;5;1m 1       \u001b[0m \u001b[38;5;1m 0       \u001b[0m \u001b[38;5;1m 0       \u001b[0m \u001b[38;5;4m 277.5   \u001b[0m  \u001b[0m\n",
      "  \u001b[38;5;1m 0       \u001b[0m \u001b[38;5;1m-1       \u001b[0m \u001b[38;5;1m 0       \u001b[0m \u001b[38;5;4m 0       \u001b[0m  \u001b[0m\n",
      "  \u001b[38;5;1m 0       \u001b[0m \u001b[38;5;1m 0       \u001b[0m \u001b[38;5;1m-1       \u001b[0m \u001b[38;5;4m 564     \u001b[0m  \u001b[0m\n",
      "  \u001b[38;5;244m 0       \u001b[0m \u001b[38;5;244m 0       \u001b[0m \u001b[38;5;244m 0       \u001b[0m \u001b[38;5;244m 1       \u001b[0m  \u001b[0m\n",
      "\n",
      "[277.5  -0.  564.  180.   -0.    0. ]\n"
     ]
    }
   ],
   "source": [
    "question_1_angles = np.array([0, deg2rad(90), 0, 0, deg2rad(-90), 0]) \n",
    "\n",
    "print(\"Question 1a transformation from foreward kinematics:\")\n",
    "question_one_transformation = mini_bot_kinematics.foreward(question_1_angles)\n",
    "# Print the transformation to easy viewing. \n",
    "print(question_one_transformation)\n",
    "# Print the answer as asked by the project instructions. \n",
    "print(mini_bot_kinematics.transformation_to_minimal_representation(question_one_transformation))\n",
    "    "
   ]
  },
  {
   "cell_type": "markdown",
   "id": "511c948b",
   "metadata": {},
   "source": [
    "### (b) Inverse position kinematics\n",
    "..."
   ]
  },
  {
   "cell_type": "code",
   "execution_count": 31,
   "id": "cc7494e9",
   "metadata": {},
   "outputs": [
    {
     "name": "stdout",
     "output_type": "stream",
     "text": [
      "-0.35338909741308844\n",
      "-1.1941883988669042\n",
      "[np.float64(3.141592653589793), np.float64(-1.1941883988669042), np.float64(-0.35338909741308844), 0, 0, 0]\n"
     ]
    }
   ],
   "source": [
    "given_transformation = np.array([[.7551, .4013, .5184, 399.1255], \n",
    "                                 [.6084, -.7235, -.3262, 171.01526], \n",
    "                                 [.2441, .5617, -.7905, 416.0308], \n",
    "                                 [0, 0, 0, 1]])\n",
    "\n",
    "given_transformation = mini_bot_kinematics.foreward(joint_angles=home_angles).A\n",
    "asdf = geometric_inverse(given_transformation)\n",
    "print(asdf)"
   ]
  },
  {
   "cell_type": "markdown",
   "id": "5014d383",
   "metadata": {},
   "source": [
    "## Question 2-Velocity level kinematics\n",
    "\n",
    "Here the kinematic Jacobian matrix must be computed for the manipulator at the joint angles found from question 1b. \n",
    "\n",
    "Explain how this is done. \n",
    "\n",
    "The jacobian matrix is defined as\n",
    "\n",
    "$$\\mathbf{\\eta}=\\mathbf{J}\\mathbf{\\dot{q}}$$\n",
    "\n",
    "rearranging we get\n",
    "$$\\mathbf{J}^{-1}\\mathbf{\\eta}=\\mathbf{\\dot{q}}$$\n",
    "\n",
    "The jacobian is not always invertible but because this robot is 6dof it will always be square. According to chatGPT, a 6x6 jacobian is invertible as long as the robot is not at a singularity, so for our purposes, it should be a safe assumption. \n",
    "\n",
    "For now this will be done at the home position because I haven't found the position of question 1b yet. "
   ]
  },
  {
   "cell_type": "code",
   "execution_count": 32,
   "id": "c6fb4eb3",
   "metadata": {},
   "outputs": [
    {
     "name": "stdout",
     "output_type": "stream",
     "text": [
      "[ -0.00484659  21.27144    -97.26944     50.         275.998\n",
      "  50.        ]\n",
      "Measured Twist: [   2.           -1.80535612    0.5         100.         -200.\n",
      "   -0.00484659]\n"
     ]
    }
   ],
   "source": [
    "np.set_printoptions(suppress=True)\n",
    "question_2_twist = np.array([2, -1, .5, 100, -200, -300])\n",
    "question_2_angles = home_angles\n",
    "home_jacobian = mini_bot_kinematics.jacobian(joint_angles=question_2_angles, link=6)\n",
    "# twist = home_jacobian @ goal_rates\n",
    "# print(twist)\n",
    "rates = np.linalg.pinv(mini_bot_kinematics.jacobian(joint_angles=question_2_angles, link=6)) @ question_2_twist\n",
    "print(rates)\n",
    "\n",
    "mj.mj_resetData(model, mujoco_model_data)\n",
    "mujoco_model_data.qpos[:len(question_2_angles)] = question_2_angles\n",
    "\n",
    "mujoco_model_data.qvel[:len(rates)] = rates\n",
    "\n",
    "mj.mj_forward(model, mujoco_model_data)\n",
    "\n",
    "\n",
    "# Tried and true code from project 1\n",
    "# Body twist: measured in the end-effector's (body) frame [linear; angular]\n",
    "body_lin_vel = mujoco_model_data.sensordata[0 : 3]\n",
    "body_ang_vel = mujoco_model_data.sensordata[3 : 6]\n",
    "measured_twist = np.concatenate([body_lin_vel, body_ang_vel])\n",
    "\n",
    "\n",
    "measured_twist[:3] = get_pose(mujoco_model_data, end_effector_body_id).R @ measured_twist[:3] * 1000 # Convert linear units to mm\n",
    "measured_twist[3:] = get_pose(mujoco_model_data, end_effector_body_id).R @ measured_twist[3:]\n",
    "print(f\"Measured Twist: {measured_twist}\")"
   ]
  },
  {
   "cell_type": "markdown",
   "id": "1d4a2c62",
   "metadata": {},
   "source": [
    "## Question 3 - mujoco verification\n",
    "In this question I will use the mujoco model of this robot to verify the answers to the rest of the project. \n",
    "\n",
    "### Question 1 Foreword position kinematics\n",
    "\n",
    "For part A, the foreword kinematics we can simply set the model to the joint angles given and read off the transformation of the end-effector. Just because I will also verify the transformation to the home position. \n"
   ]
  },
  {
   "cell_type": "code",
   "execution_count": 33,
   "id": "2796b368",
   "metadata": {},
   "outputs": [
    {
     "name": "stdout",
     "output_type": "stream",
     "text": [
      "The home position was correctly computed. \n",
      "Question 1 part A is correct.\n"
     ]
    }
   ],
   "source": [
    "# Home position\n",
    "mujoco_model_data.qpos[:len(home_angles)] = home_angles\n",
    "mj.mj_forward(model, mujoco_model_data)\n",
    "mujoco_home_pose = get_pose(mujoco_model_data, end_effector_body_id)\n",
    "\n",
    "if np.allclose(np.array(mujoco_home_pose), np.array(home_pos), atol=1e-8):\n",
    "    print(\"The home position was correctly computed. \")\n",
    "else:\n",
    "    print(\"The home position was not correctly computed.\")\n",
    "\n",
    "# Question 1 part A\n",
    "mujoco_model_data.qpos[:len(question_1_angles)] = question_1_angles\n",
    "mj.mj_forward(model, mujoco_model_data)\n",
    "mujoco_question_one_pose = get_pose(mujoco_model_data, end_effector_body_id)\n",
    "\n",
    "if np.allclose(np.array(mujoco_question_one_pose), np.array(question_one_transformation), atol=1e-8):\n",
    "    print(\"Question 1 part A is correct.\")\n",
    "else:\n",
    "    print(\"Question 1 part A is not correct. \")"
   ]
  },
  {
   "cell_type": "markdown",
   "id": "765e159c",
   "metadata": {},
   "source": [
    "### Question 1 B-Inverse position kinematics"
   ]
  },
  {
   "cell_type": "code",
   "execution_count": 34,
   "id": "e1817a76",
   "metadata": {},
   "outputs": [],
   "source": [
    "pass"
   ]
  },
  {
   "cell_type": "markdown",
   "id": "a6673f06",
   "metadata": {},
   "source": [
    "### Question 2 Velocity Level Kinematics.    \n",
    "\n",
    "Here we will check if the jacobian function works correctly by setting  joint positions and velocities in mujoco, reading the twist, and comparing it to what my function yields, the same way as in project 1. \n"
   ]
  },
  {
   "cell_type": "code",
   "execution_count": 35,
   "metadata": {},
   "outputs": [
    {
     "name": "stdout",
     "output_type": "stream",
     "text": [
      "Twist was correct\n"
     ]
    }
   ],
   "source": [
    "mj.mj_resetData(model, mujoco_model_data)\n",
    "\n",
    "test_angles = home_angles\n",
    "mujoco_model_data.qpos[:len(test_angles)] = test_angles\n",
    "\n",
    "# Use random rotation rates each test. \n",
    "test_rot_rates = np.random.uniform(low=-1, high=1, size=6)\n",
    "# test_rot_rates = np.array([1, 0, 0, 0, 0, 0])\n",
    "mujoco_model_data.qvel[:len(test_rot_rates)] = test_rot_rates\n",
    "\n",
    "\n",
    "mj.mj_forward(model, mujoco_model_data)\n",
    "\n",
    "\n",
    "# Tried and true code from project 1\n",
    "# Body twist: measured in the end-effector's (body) frame [linear; angular]\n",
    "body_lin_vel = mujoco_model_data.sensordata[0 : 3]\n",
    "body_ang_vel = mujoco_model_data.sensordata[3 : 6]\n",
    "measured_twist = np.concatenate([body_lin_vel, body_ang_vel])\n",
    "\n",
    "\n",
    "measured_twist[:3] = get_pose(mujoco_model_data, end_effector_body_id).R @ measured_twist[:3] * 1000 # Convert linear units to mm\n",
    "measured_twist[3:] = get_pose(mujoco_model_data, end_effector_body_id).R @ measured_twist[3:]\n",
    "\n",
    "test_jacobian = mini_bot_kinematics.jacobian(joint_angles=test_angles, link=6)\n",
    "analytic_twist = test_jacobian @ test_rot_rates\n",
    "\n",
    "if np.allclose(measured_twist, analytic_twist, atol=1e-8):\n",
    "    print(\"Twist was correct\")\n",
    "else:\n",
    "    print(\"Twist was incorrect. \")\n",
    "    print(f\"Measured: {measured_twist}\")\n",
    "    print(f\"Analytic: {analytic_twist}\")"
   ]
  }
 ],
 "metadata": {
  "kernelspec": {
   "display_name": ".venv",
   "language": "python",
   "name": "python3"
  },
  "language_info": {
   "codemirror_mode": {
    "name": "ipython",
    "version": 3
   },
   "file_extension": ".py",
   "mimetype": "text/x-python",
   "name": "python",
   "nbconvert_exporter": "python",
   "pygments_lexer": "ipython3",
   "version": "3.12.3"
  }
 },
 "nbformat": 4,
 "nbformat_minor": 5
}
